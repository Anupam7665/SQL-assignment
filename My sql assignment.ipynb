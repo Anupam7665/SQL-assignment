{
 "cells": [
  {
   "cell_type": "markdown",
   "id": "9497529c-be70-404c-bb6b-2c8a35a1b4a9",
   "metadata": {},
   "source": [
    "### Q1. What is a database? Differentiate between SQL and NoSQL databases."
   ]
  },
  {
   "cell_type": "markdown",
   "id": "7e8ad9f9-84d2-4d31-8abc-50ba6521a9f5",
   "metadata": {},
   "source": [
    "Databasse is a collection of data. Database is usually controlled by database management system.  Database are used for storing , maintaining and acessing the data\n",
    "\n",
    " SQL database stand for structure query languages. In SQL every data are stored in specific format .They are great for structured data likes names , dates and financial records\n",
    " \n",
    " \n",
    " NoSQL are more flexible for unstructured data.This is better for handling large amount of data that can be changed frequently.Its stored a mix type of data like images , photos and  can be handle this data quickly "
   ]
  },
  {
   "cell_type": "markdown",
   "id": "1b061ef5-c9de-4d9a-8a55-ac25c1dc0e9a",
   "metadata": {},
   "source": [
    "### Q2. What is DDL? Explain why CREATE, DROP, ALTER, and TRUNCATE are used with an example."
   ]
  },
  {
   "cell_type": "markdown",
   "id": "b9f68330-e9f4-458e-9df0-f3ecfbf82390",
   "metadata": {},
   "source": [
    "DDL stands for data definiton language.It is like a blueprint of the database. It helps you to define how your data will be organized and what types of data it can be stored\n",
    "\n",
    "\n",
    "Lets take a exampke of the student database like its id , name , std and  age.\n",
    "\n",
    "CREATE :- It is used to create new space  like  to create a  new section  for student  like  _course_ \n",
    "\n",
    "DROP :- It is used to remove a data along with coloumn. for eg. we want to drop a _name_ section because with the  help of _id_ it can identify the  student s0 it did not required the _name_ section \n",
    "\n",
    "ALTER :- It is used for the add a more space for the coloumn or row. like, later we realize that the student has five subject and after that college give the one more subject for enhancing the skils so this _alter_ a adding a extra layer for that.\n",
    "\n",
    "TRUNCATE :- It is used  to remove the data only not coloumn . just like, after one year student has completed their one extra subject .So its not important to store those data so, those data will be remove or clear but the space remain for extra subject keep as it is. For in case future they will be provide one more subject"
   ]
  },
  {
   "cell_type": "markdown",
   "id": "e8b248c0-5b37-486b-8d86-da150218d6d7",
   "metadata": {},
   "source": [
    "### Q3. What is DML? Explain INSERT, UPDATE, and DELETE with an example."
   ]
  },
  {
   "cell_type": "markdown",
   "id": "09795aa1-31c5-440e-a227-3e8d59e8de7b",
   "metadata": {},
   "source": [
    "DML refers to the data manipulation language. It is used to manipulate or modify the data by using insert update , delete commands \n",
    "\n",
    "\n",
    "INSERT :- This command is used for to insert a data means to put a  new data into the database like to add a student student marks\n",
    "\n",
    "UPDATE :- This command is used to update the any data or information regarding th like to updata a student phone number.\n",
    "\n",
    "DELETE :- This command is used to delete the data which is not required like to dalete a student previous year roll no ,which is not required in this year "
   ]
  },
  {
   "cell_type": "markdown",
   "id": "d5f82f67-5b0f-40a6-92e9-e99671140d9f",
   "metadata": {},
   "source": [
    "### Q4. What is DQL? Explain SELECT with an example."
   ]
  },
  {
   "cell_type": "markdown",
   "id": "533ef018-f5bf-4b29-b2fa-fdb2811a515e",
   "metadata": {},
   "source": [
    "DQL stands for data query language .It is uses to retrive information from database.It help to fetch the  specific data from the database .It is used to ask a question to the database \n",
    "\n",
    "SELECT :- The dataabse is like a big collection of information .The _select_ statement or command is like a asking a question to database to get the specific data.\n",
    "\n",
    "for eg    SELECT TITLE,Author \n",
    "    \n",
    "           From Books\n",
    "    \n",
    "            where Genre = science fiction\n",
    "    \n",
    "    \n",
    "This statemnt simply say that go to the database and show the author book which is genre are science fiction"
   ]
  },
  {
   "cell_type": "markdown",
   "id": "f52b4393-0c44-402f-be1b-0bb21ae6545e",
   "metadata": {},
   "source": [
    "### Q5. Explain Primary Key and Foreign Key."
   ]
  },
  {
   "cell_type": "markdown",
   "id": "2336fb51-f8ca-4744-bcd1-364842356755",
   "metadata": {},
   "source": [
    "Primary key :- In a database a primary key is like special id tag for each row in a table of the dastabase . Primary key is unique in each row of the database .It help to to fetch the data in easy way and keep the  data in organised way.\n",
    "\n",
    "for eg  a employee _id_ is the unique among the all employee who works in the company. If HR wants to promote to the employee based on their perfomance so this is possible because their employee _id_ reason the  perfomance are stored in the database and  it has already has alloted  unique employee _id_\n",
    "\n",
    "Foreign key :- Foreign key is like a special tag in one list that points to an item in another list . This tag help the two list work together and understand how certain item are related to each other "
   ]
  },
  {
   "cell_type": "markdown",
   "id": "1bb37241-fce0-4123-bfca-b20cf83f47c8",
   "metadata": {},
   "source": [
    "### Q6. Write a python code to connect MySQL to python. Explain the cursor() and execute() method."
   ]
  },
  {
   "cell_type": "markdown",
   "id": "3584afa0-7591-47f8-9726-c95c95849da5",
   "metadata": {},
   "source": [
    "import mysql.connector \n",
    "\n",
    "#creatina a connetion with mysql database \n",
    "\n",
    "db=mysql.connector.connect(\n",
    "    host=\"localhost\",\n",
    "    user=\"username\",\n",
    "    password=\"password\",\n",
    "    database=\"database_name\"\n",
    ")\n",
    "\n",
    "#creating a cursor object\n",
    "\n",
    "cursor = db.cursor()\n",
    "\n",
    "#Executing a SELECT statement\n",
    "\n",
    "cursor.execute(\"SELECT * FROM employee\")\n",
    "\n",
    "for row in cusor.fetchall():\n",
    "    print(row)\n",
    "    \n",
    "#Closing the database and cursor\n",
    "\n",
    "cursor.close()\n",
    "db.close()"
   ]
  },
  {
   "cell_type": "markdown",
   "id": "cbe3ca22-fb9c-44b1-a041-bc7e257feac0",
   "metadata": {},
   "source": [
    "cursor() is like a pointer that help you keep track of list of item . In another words Its like a arrow that point to the item you are looking at\n",
    "\n",
    "execute() method is like a giving a order or a command  to the computer. Its like a telling to the computer to do this task . Its like a giving a push to make the thing happen  "
   ]
  },
  {
   "cell_type": "markdown",
   "id": "ba564274-feac-48b1-962d-414c56454143",
   "metadata": {},
   "source": [
    "### Q7. Give the order of execution of SQL clauses in an SQL query."
   ]
  },
  {
   "cell_type": "markdown",
   "id": "e12d25de-214b-43f7-92f2-f4296ef3e7d0",
   "metadata": {},
   "source": [
    "SElELCT name,age\n",
    "\n",
    "FROM customers\n",
    "\n",
    "WHERE age > 18\n",
    "\n",
    "GROUP BY departmnet\n",
    "\n",
    "HAVING count (*) > 5\n",
    "\n",
    "ORDER BY name ASC\n",
    "\n",
    "LIMIT 10\n",
    "\n"
   ]
  },
  {
   "cell_type": "markdown",
   "id": "1871e22c-b621-4926-aad4-df94eae44c3f",
   "metadata": {},
   "source": [
    "SELECT :- specify which coloumn you want\n",
    "\n",
    "FROM :- this is where you mention the table\n",
    "\n",
    "WHERE :- to set the condition to filter the data \n",
    "\n",
    "GROUP BY :- If you want to group data together based on the coloumn\n",
    "\n",
    "HAVING :-filter the group based on the count of the customer\n",
    "\n",
    "ORDER BY :- sort the result by the _name_ coloumn in the ascending order\n",
    "\n",
    "LIMIT :- Want only a certain number of the data\n"
   ]
  },
  {
   "cell_type": "code",
   "execution_count": null,
   "id": "b4d514da-e83a-4f4f-88a8-d976c9748f0d",
   "metadata": {},
   "outputs": [],
   "source": []
  }
 ],
 "metadata": {
  "kernelspec": {
   "display_name": "Python 3 (ipykernel)",
   "language": "python",
   "name": "python3"
  },
  "language_info": {
   "codemirror_mode": {
    "name": "ipython",
    "version": 3
   },
   "file_extension": ".py",
   "mimetype": "text/x-python",
   "name": "python",
   "nbconvert_exporter": "python",
   "pygments_lexer": "ipython3",
   "version": "3.10.8"
  }
 },
 "nbformat": 4,
 "nbformat_minor": 5
}
